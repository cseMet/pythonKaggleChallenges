{
 "cells": [
  {
   "cell_type": "code",
   "execution_count": null,
   "metadata": {
    "colab": {
     "base_uri": "https://localhost:8080/",
     "height": 122
    },
    "colab_type": "code",
    "id": "ZhOWRqnoIdZE",
    "outputId": "19dadf07-bf30-494f-8160-2d99a8567575"
   },
   "outputs": [],
   "source": [
    "from google.colab import drive\n",
    "drive.mount('/content/gdrive')"
   ]
  },
  {
   "cell_type": "code",
   "execution_count": null,
   "metadata": {
    "colab": {
     "base_uri": "https://localhost:8080/",
     "height": 34
    },
    "colab_type": "code",
    "id": "XhWicfawNDh1",
    "outputId": "8bdee3d2-c2c5-4458-c20d-482a90da3cde"
   },
   "outputs": [],
   "source": [
    "% cd gdrive/My\\ Drive/kaggle/digit"
   ]
  },
  {
   "cell_type": "code",
   "execution_count": null,
   "metadata": {
    "colab": {},
    "colab_type": "code",
    "id": "euaKkf-8I5S4"
   },
   "outputs": [],
   "source": [
    "from google.colab import files\n",
    "files.upload()  #this will prompt you to upload the kaggle.json"
   ]
  },
  {
   "cell_type": "markdown",
   "metadata": {},
   "source": [
    "###### dataset is available on https://www.kaggle.com/c/digit-recognizer/data"
   ]
  },
  {
   "cell_type": "code",
   "execution_count": null,
   "metadata": {
    "colab": {
     "base_uri": "https://localhost:8080/",
     "height": 34
    },
    "colab_type": "code",
    "id": "I0Id_9yHKwL5",
    "outputId": "bdcd1f9a-a922-4774-f5d4-4c3c1d03bf9b"
   },
   "outputs": [],
   "source": [
    "import pandas as pd\n",
    "import cv2\n",
    "from PIL import Image\n",
    "from keras.utils.np_utils import to_categorical\n",
    "from matplotlib import pyplot as plt\n",
    "import numpy as np\n",
    "import xgboost\n",
    "from sklearn.model_selection import train_test_split\n",
    "from sklearn.model_selection import RandomizedSearchCV, GridSearchCV\n",
    "from keras.models import Sequential, Model\n",
    "from keras.layers import Dense, Activation, Convolution2D, MaxPooling2D, Flatten, Input, Dropout\n",
    "from keras.optimizers import Adam\n",
    "%matplotlib inline"
   ]
  },
  {
   "cell_type": "code",
   "execution_count": null,
   "metadata": {
    "colab": {},
    "colab_type": "code",
    "id": "4lPTCwFCK08V"
   },
   "outputs": [],
   "source": [
    "df=pd.read_csv('train.csv')\n",
    "dfT=pd.read_csv('test.csv')\n",
    "dfS=pd.read_csv('sample_submission.csv')"
   ]
  },
  {
   "cell_type": "code",
   "execution_count": null,
   "metadata": {
    "colab": {
     "base_uri": "https://localhost:8080/",
     "height": 253
    },
    "colab_type": "code",
    "id": "jWy4a90_LLFL",
    "outputId": "497d7d49-ae94-494a-b95e-7e3afbb6ae63"
   },
   "outputs": [],
   "source": [
    "df.head()"
   ]
  },
  {
   "cell_type": "code",
   "execution_count": null,
   "metadata": {
    "colab": {
     "base_uri": "https://localhost:8080/",
     "height": 34
    },
    "colab_type": "code",
    "id": "Fg275s46LNbQ",
    "outputId": "e9d2e93c-4ac3-4d7e-fd65-8d7d313ca931"
   },
   "outputs": [],
   "source": [
    "df.shape"
   ]
  },
  {
   "cell_type": "code",
   "execution_count": null,
   "metadata": {
    "colab": {},
    "colab_type": "code",
    "id": "z38Y6dgKMEui"
   },
   "outputs": [],
   "source": [
    "labelImages=df['label'].values"
   ]
  },
  {
   "cell_type": "code",
   "execution_count": null,
   "metadata": {
    "colab": {},
    "colab_type": "code",
    "id": "lZ66rOVbLf3j"
   },
   "outputs": [],
   "source": [
    "Y_train =to_categorical(df['label'].values, num_classes=10)"
   ]
  },
  {
   "cell_type": "code",
   "execution_count": null,
   "metadata": {
    "colab": {},
    "colab_type": "code",
    "id": "x5DwypoELiTS"
   },
   "outputs": [],
   "source": [
    "df.drop('label',axis=1,inplace=True)\n",
    "X_train=df"
   ]
  },
  {
   "cell_type": "code",
   "execution_count": null,
   "metadata": {
    "colab": {},
    "colab_type": "code",
    "id": "2jMTqZtILnXv"
   },
   "outputs": [],
   "source": [
    "trainImages=np.asarray([rows.values.reshape(28,28,1) for index,rows in df.iterrows()],dtype=float)"
   ]
  },
  {
   "cell_type": "code",
   "execution_count": null,
   "metadata": {
    "colab": {},
    "colab_type": "code",
    "id": "oQ1hRjM2Ls5P"
   },
   "outputs": [],
   "source": [
    "X_tr, X_test, y_tr, y_test = train_test_split(X_train, labelImages, test_size=0.2, random_state=42)"
   ]
  },
  {
   "cell_type": "code",
   "execution_count": null,
   "metadata": {
    "colab": {},
    "colab_type": "code",
    "id": "Ct9yP4GcMJf9"
   },
   "outputs": [],
   "source": [
    "X_test=np.asarray([rows.values.reshape(28,28,1) for index,rows in X_test.iterrows()],dtype=float)\n",
    "y_test = to_categorical(y_test, num_classes=10)"
   ]
  },
  {
   "cell_type": "code",
   "execution_count": null,
   "metadata": {
    "colab": {},
    "colab_type": "code",
    "id": "K4gDaBQgMlw8"
   },
   "outputs": [],
   "source": [
    "inputs = Input(shape=(28,28,1))\n",
    "\n",
    "conv2d1 = Convolution2D(filters=64, kernel_size=6, padding='same', data_format='channels_last')(inputs)\n",
    "activation1 = Activation('relu')(conv2d1)\n",
    "maxpooling1 = MaxPooling2D(pool_size=3, strides=3, padding='same', data_format='channels_last')(activation1)\n",
    "dropout1 = Dropout(0.25)(maxpooling1)\n",
    "\n",
    "conv2d2 = Convolution2D(filters=64, kernel_size=5, padding='same', data_format='channels_last')(dropout1)\n",
    "activation2 = Activation('relu')(conv2d2)\n",
    "maxpooling2 = MaxPooling2D(pool_size=3, strides=3, padding='same', data_format='channels_last')(activation2)\n",
    "\n",
    "flatten = Flatten()(maxpooling2)\n",
    "\n",
    "dense1 = Dense(1024)(flatten)\n",
    "activation3 = Activation('relu')(dense1)\n",
    "\n",
    "dense2 = Dense(10)(activation3)\n",
    "activation4 = Activation('softmax')(dense2)\n",
    "\n",
    "model_dense2_output = Model(inputs=inputs, outputs=activation3)\n",
    "model = Model(inputs=inputs, outputs=activation4)"
   ]
  },
  {
   "cell_type": "code",
   "execution_count": null,
   "metadata": {
    "colab": {
     "base_uri": "https://localhost:8080/",
     "height": 408
    },
    "colab_type": "code",
    "id": "s57f1-YMMt66",
    "outputId": "0d9fecd2-b9e2-41ec-b054-d1df75d4d2cd"
   },
   "outputs": [],
   "source": [
    "adam = Adam(lr=1e-4)\n",
    "model.compile(optimizer=adam,loss='categorical_crossentropy',metrics=['accuracy'])\n",
    "model.fit(trainImages, Y_train, epochs=2, batch_size=16)\n",
    "print('\\ntest loss: ', loss)\n",
    "print('\\ntest accuracy: ', accuracy)"
   ]
  },
  {
   "cell_type": "code",
   "execution_count": null,
   "metadata": {
    "colab": {},
    "colab_type": "code",
    "id": "8lAtlwdpXrnj"
   },
   "outputs": [],
   "source": [
    "dfT=np.asarray([rows.values.reshape(28,28,1) for index,rows in dfT.iterrows()],dtype=float)"
   ]
  },
  {
   "cell_type": "code",
   "execution_count": null,
   "metadata": {
    "colab": {},
    "colab_type": "code",
    "id": "3bHIfTi-Xwap"
   },
   "outputs": [],
   "source": [
    "y_pred=model.predict(dfT)"
   ]
  },
  {
   "cell_type": "code",
   "execution_count": null,
   "metadata": {
    "colab": {},
    "colab_type": "code",
    "id": "esNQZSf8WM4U"
   },
   "outputs": [],
   "source": [
    "Y=[]\n",
    "for i in range(0,len(y_pred)):\n",
    "  Y.append(tf.argmax(y_pred[i]).numpy())"
   ]
  },
  {
   "cell_type": "code",
   "execution_count": null,
   "metadata": {
    "colab": {
     "base_uri": "https://localhost:8080/",
     "height": 34
    },
    "colab_type": "code",
    "id": "8fChc7G_WgQQ",
    "outputId": "a5cb0c43-e622-44ec-b838-77e2d6fec50c"
   },
   "outputs": [],
   "source": [
    "len(Y)"
   ]
  },
  {
   "cell_type": "code",
   "execution_count": null,
   "metadata": {
    "colab": {},
    "colab_type": "code",
    "id": "4Wmx9AnkRBs5"
   },
   "outputs": [],
   "source": [
    "dfS.drop('Label',axis=1,inplace=True)\n",
    "dfS['Label']=Y\n",
    "dfS.to_csv('submissionConv15epoch.csv',index=False)"
   ]
  },
  {
   "cell_type": "markdown",
   "metadata": {
    "colab": {},
    "colab_type": "code",
    "id": "53xRF6VdYeR6"
   },
   "source": [
    "## Score 0.98671 with CNN only"
   ]
  },
  {
   "cell_type": "code",
   "execution_count": null,
   "metadata": {
    "colab": {
     "base_uri": "https://localhost:8080/",
     "height": 1000
    },
    "colab_type": "code",
    "id": "5YioTsBjarjM",
    "outputId": "d39e4f8f-a593-4d61-aea6-991bfb761f4c"
   },
   "outputs": [],
   "source": [
    "X_train_xg = model_dense2_output.predict(trainImages)\n",
    "# print(np.array(X_train_xg).shape)\n",
    "# print(np.array(y_train).shape)\n",
    "\n",
    "z = np.concatenate([np.array(X_train_xg).reshape(42000,1024),np.array(labelImages).reshape(42000,1)],axis=1)\n",
    "z = pd.DataFrame(z)\n",
    "z.to_csv('train_xg.csv',index=False)\n",
    "\n",
    "train = pd.read_csv('train_xg.csv')\n",
    "train_y = train['1024'].astype('int')\n",
    "train_x = train.drop(['1024'],axis=1)\n",
    "dataset = xgboost.DMatrix(train_x, label=train_y)\n",
    "watchlist = [(dataset, 'train')]\n",
    "params = {'max_depth':7, 'eta':0.1, 'silent':1, 'num_class':10,'objective':'multi:softmax' } \n",
    "model_xg = xgboost.train(params, dataset, num_boost_round=150, evals=watchlist)"
   ]
  },
  {
   "cell_type": "code",
   "execution_count": null,
   "metadata": {
    "colab": {},
    "colab_type": "code",
    "id": "NhWe7P8ttYdb"
   },
   "outputs": [],
   "source": [
    "X_test_xg = model_dense2_output.predict(dfT)\n",
    "z = np.array(X_test_xg).reshape(28000,1024)\n",
    "z = pd.DataFrame(z)\n",
    "z.to_csv('test_xg.csv',index=False)"
   ]
  },
  {
   "cell_type": "code",
   "execution_count": null,
   "metadata": {
    "colab": {},
    "colab_type": "code",
    "id": "75kjhyK6vm2Z"
   },
   "outputs": [],
   "source": [
    "test = pd.read_csv('test_xg.csv')"
   ]
  },
  {
   "cell_type": "code",
   "execution_count": null,
   "metadata": {
    "colab": {},
    "colab_type": "code",
    "id": "_KIjp8NsvopX"
   },
   "outputs": [],
   "source": [
    "test= xgboost.DMatrix(test)\n",
    "result = model_xg.predict(test)\n"
   ]
  },
  {
   "cell_type": "code",
   "execution_count": null,
   "metadata": {
    "colab": {},
    "colab_type": "code",
    "id": "7dr7mZD7wUO8"
   },
   "outputs": [],
   "source": [
    "result=np.asanyarray(result,dtype=int)"
   ]
  },
  {
   "cell_type": "code",
   "execution_count": null,
   "metadata": {
    "colab": {},
    "colab_type": "code",
    "id": "k2dwKvqswbmA"
   },
   "outputs": [],
   "source": [
    "dfXgb=pd.read_csv('sample_submission.csv')\n",
    "dfXgb.drop('Label',axis=1,inplace=True)\n",
    "dfXgb['Label']=result\n",
    "dfXgb.to_csv('submissionConv2dXgb.csv',index=False)"
   ]
  },
  {
   "cell_type": "markdown",
   "metadata": {},
   "source": [
    "## Score 0.98685 with CNN+Xgboost"
   ]
  }
 ],
 "metadata": {
  "accelerator": "GPU",
  "colab": {
   "collapsed_sections": [],
   "name": "download-datasets-to-your-google-drive.ipynb",
   "provenance": []
  },
  "kernelspec": {
   "display_name": "Python 3",
   "language": "python",
   "name": "python3"
  },
  "language_info": {
   "codemirror_mode": {
    "name": "ipython",
    "version": 3
   },
   "file_extension": ".py",
   "mimetype": "text/x-python",
   "name": "python",
   "nbconvert_exporter": "python",
   "pygments_lexer": "ipython3",
   "version": "3.6.2"
  }
 },
 "nbformat": 4,
 "nbformat_minor": 1
}
